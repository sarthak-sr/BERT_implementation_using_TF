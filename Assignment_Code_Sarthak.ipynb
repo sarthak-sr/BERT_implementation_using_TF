{
  "nbformat": 4,
  "nbformat_minor": 0,
  "metadata": {
    "colab": {
      "provenance": [],
      "gpuType": "T4"
    },
    "kernelspec": {
      "name": "python3",
      "display_name": "Python 3"
    },
    "language_info": {
      "name": "python"
    },
    "accelerator": "GPU"
  },
  "cells": [
    {
      "cell_type": "markdown",
      "source": [
        "## Objective\n",
        "\n",
        "Develop a transformer-based model to solve a text classification problem.I will be using 🤗 library to fine-tune BERT model using Tensorflow.\n",
        "\n",
        "Before executing the notebook please note:\n",
        "1. To utlise the GPU kindly change runtime from default CPU to T4 GPU (for free version of collab) or to A100 for Pro users.\n",
        "2. You would require a Kaggle API key to download the dataset, Incase you do not have one, manually download the dataset and upload in the notebook.\n",
        "3. This notebook takes around 40 mins to end to end."
      ],
      "metadata": {
        "id": "P-3dczT0kCiW"
      }
    },
    {
      "cell_type": "markdown",
      "source": [
        "## Installing required libraries and dependencies."
      ],
      "metadata": {
        "id": "DsOS_CvkkVNK"
      }
    },
    {
      "cell_type": "code",
      "execution_count": null,
      "metadata": {
        "id": "M8-Mq5xYVXgK"
      },
      "outputs": [],
      "source": [
        "import pandas as pd\n",
        "\n",
        "!pip install opendatasets --q\n",
        "import opendatasets as od\n",
        "\n",
        "import re\n",
        "import matplotlib.pyplot as plt\n",
        "from sklearn.model_selection import train_test_split\n",
        "\n",
        "!pip install transformers --q\n",
        "from transformers import BertTokenizer\n",
        "from transformers import TFBertForSequenceClassification\n",
        "import tensorflow as tf\n",
        "from tensorflow.keras.optimizers import Adam\n",
        "import numpy as np\n",
        "from sklearn.metrics import accuracy_score\n"
      ]
    },
    {
      "cell_type": "markdown",
      "source": [
        "## Downloading and pre-paring the data set.\n",
        "\n",
        "Data Source: https://www.kaggle.com/datasets/lakshmi25npathi/imdb-dataset-of-50k-movie-reviews"
      ],
      "metadata": {
        "id": "o_syGryykZL-"
      }
    },
    {
      "cell_type": "code",
      "source": [
        "  od.download('https://www.kaggle.com/datasets/lakshmi25npathi/imdb-dataset-of-50k-movie-reviews')"
      ],
      "metadata": {
        "colab": {
          "base_uri": "https://localhost:8080/"
        },
        "id": "xtg45RF1kzgO",
        "outputId": "6604f5df-3fd5-4c8e-ab90-21d793d418a0"
      },
      "execution_count": null,
      "outputs": [
        {
          "output_type": "stream",
          "name": "stdout",
          "text": [
            "Please provide your Kaggle credentials to download this dataset. Learn more: http://bit.ly/kaggle-creds\n",
            "Your Kaggle username: sarthaksrivastava123\n",
            "Your Kaggle Key: ··········\n",
            "Downloading imdb-dataset-of-50k-movie-reviews.zip to ./imdb-dataset-of-50k-movie-reviews\n"
          ]
        },
        {
          "output_type": "stream",
          "name": "stderr",
          "text": [
            "100%|██████████| 25.7M/25.7M [00:02<00:00, 12.2MB/s]\n"
          ]
        },
        {
          "output_type": "stream",
          "name": "stdout",
          "text": [
            "\n"
          ]
        }
      ]
    },
    {
      "cell_type": "code",
      "source": [
        "df = pd.read_csv('/content/imdb-dataset-of-50k-movie-reviews/IMDB Dataset.csv')"
      ],
      "metadata": {
        "id": "OAS9qTCYpVQZ"
      },
      "execution_count": null,
      "outputs": []
    },
    {
      "cell_type": "code",
      "source": [
        "df.head()"
      ],
      "metadata": {
        "colab": {
          "base_uri": "https://localhost:8080/",
          "height": 206
        },
        "id": "s8QjvUGHpaVl",
        "outputId": "5eaf6811-108a-4175-d879-68249e80c564"
      },
      "execution_count": null,
      "outputs": [
        {
          "output_type": "execute_result",
          "data": {
            "text/plain": [
              "                                              review sentiment\n",
              "0  One of the other reviewers has mentioned that ...  positive\n",
              "1  A wonderful little production. <br /><br />The...  positive\n",
              "2  I thought this was a wonderful way to spend ti...  positive\n",
              "3  Basically there's a family where a little boy ...  negative\n",
              "4  Petter Mattei's \"Love in the Time of Money\" is...  positive"
            ],
            "text/html": [
              "\n",
              "  <div id=\"df-8fd85a21-b83c-4db3-b2f7-1dbe0f79eede\" class=\"colab-df-container\">\n",
              "    <div>\n",
              "<style scoped>\n",
              "    .dataframe tbody tr th:only-of-type {\n",
              "        vertical-align: middle;\n",
              "    }\n",
              "\n",
              "    .dataframe tbody tr th {\n",
              "        vertical-align: top;\n",
              "    }\n",
              "\n",
              "    .dataframe thead th {\n",
              "        text-align: right;\n",
              "    }\n",
              "</style>\n",
              "<table border=\"1\" class=\"dataframe\">\n",
              "  <thead>\n",
              "    <tr style=\"text-align: right;\">\n",
              "      <th></th>\n",
              "      <th>review</th>\n",
              "      <th>sentiment</th>\n",
              "    </tr>\n",
              "  </thead>\n",
              "  <tbody>\n",
              "    <tr>\n",
              "      <th>0</th>\n",
              "      <td>One of the other reviewers has mentioned that ...</td>\n",
              "      <td>positive</td>\n",
              "    </tr>\n",
              "    <tr>\n",
              "      <th>1</th>\n",
              "      <td>A wonderful little production. &lt;br /&gt;&lt;br /&gt;The...</td>\n",
              "      <td>positive</td>\n",
              "    </tr>\n",
              "    <tr>\n",
              "      <th>2</th>\n",
              "      <td>I thought this was a wonderful way to spend ti...</td>\n",
              "      <td>positive</td>\n",
              "    </tr>\n",
              "    <tr>\n",
              "      <th>3</th>\n",
              "      <td>Basically there's a family where a little boy ...</td>\n",
              "      <td>negative</td>\n",
              "    </tr>\n",
              "    <tr>\n",
              "      <th>4</th>\n",
              "      <td>Petter Mattei's \"Love in the Time of Money\" is...</td>\n",
              "      <td>positive</td>\n",
              "    </tr>\n",
              "  </tbody>\n",
              "</table>\n",
              "</div>\n",
              "    <div class=\"colab-df-buttons\">\n",
              "\n",
              "  <div class=\"colab-df-container\">\n",
              "    <button class=\"colab-df-convert\" onclick=\"convertToInteractive('df-8fd85a21-b83c-4db3-b2f7-1dbe0f79eede')\"\n",
              "            title=\"Convert this dataframe to an interactive table.\"\n",
              "            style=\"display:none;\">\n",
              "\n",
              "  <svg xmlns=\"http://www.w3.org/2000/svg\" height=\"24px\" viewBox=\"0 -960 960 960\">\n",
              "    <path d=\"M120-120v-720h720v720H120Zm60-500h600v-160H180v160Zm220 220h160v-160H400v160Zm0 220h160v-160H400v160ZM180-400h160v-160H180v160Zm440 0h160v-160H620v160ZM180-180h160v-160H180v160Zm440 0h160v-160H620v160Z\"/>\n",
              "  </svg>\n",
              "    </button>\n",
              "\n",
              "  <style>\n",
              "    .colab-df-container {\n",
              "      display:flex;\n",
              "      gap: 12px;\n",
              "    }\n",
              "\n",
              "    .colab-df-convert {\n",
              "      background-color: #E8F0FE;\n",
              "      border: none;\n",
              "      border-radius: 50%;\n",
              "      cursor: pointer;\n",
              "      display: none;\n",
              "      fill: #1967D2;\n",
              "      height: 32px;\n",
              "      padding: 0 0 0 0;\n",
              "      width: 32px;\n",
              "    }\n",
              "\n",
              "    .colab-df-convert:hover {\n",
              "      background-color: #E2EBFA;\n",
              "      box-shadow: 0px 1px 2px rgba(60, 64, 67, 0.3), 0px 1px 3px 1px rgba(60, 64, 67, 0.15);\n",
              "      fill: #174EA6;\n",
              "    }\n",
              "\n",
              "    .colab-df-buttons div {\n",
              "      margin-bottom: 4px;\n",
              "    }\n",
              "\n",
              "    [theme=dark] .colab-df-convert {\n",
              "      background-color: #3B4455;\n",
              "      fill: #D2E3FC;\n",
              "    }\n",
              "\n",
              "    [theme=dark] .colab-df-convert:hover {\n",
              "      background-color: #434B5C;\n",
              "      box-shadow: 0px 1px 3px 1px rgba(0, 0, 0, 0.15);\n",
              "      filter: drop-shadow(0px 1px 2px rgba(0, 0, 0, 0.3));\n",
              "      fill: #FFFFFF;\n",
              "    }\n",
              "  </style>\n",
              "\n",
              "    <script>\n",
              "      const buttonEl =\n",
              "        document.querySelector('#df-8fd85a21-b83c-4db3-b2f7-1dbe0f79eede button.colab-df-convert');\n",
              "      buttonEl.style.display =\n",
              "        google.colab.kernel.accessAllowed ? 'block' : 'none';\n",
              "\n",
              "      async function convertToInteractive(key) {\n",
              "        const element = document.querySelector('#df-8fd85a21-b83c-4db3-b2f7-1dbe0f79eede');\n",
              "        const dataTable =\n",
              "          await google.colab.kernel.invokeFunction('convertToInteractive',\n",
              "                                                    [key], {});\n",
              "        if (!dataTable) return;\n",
              "\n",
              "        const docLinkHtml = 'Like what you see? Visit the ' +\n",
              "          '<a target=\"_blank\" href=https://colab.research.google.com/notebooks/data_table.ipynb>data table notebook</a>'\n",
              "          + ' to learn more about interactive tables.';\n",
              "        element.innerHTML = '';\n",
              "        dataTable['output_type'] = 'display_data';\n",
              "        await google.colab.output.renderOutput(dataTable, element);\n",
              "        const docLink = document.createElement('div');\n",
              "        docLink.innerHTML = docLinkHtml;\n",
              "        element.appendChild(docLink);\n",
              "      }\n",
              "    </script>\n",
              "  </div>\n",
              "\n",
              "\n",
              "<div id=\"df-489d3447-eb56-432b-a582-dc4f0d881d9f\">\n",
              "  <button class=\"colab-df-quickchart\" onclick=\"quickchart('df-489d3447-eb56-432b-a582-dc4f0d881d9f')\"\n",
              "            title=\"Suggest charts\"\n",
              "            style=\"display:none;\">\n",
              "\n",
              "<svg xmlns=\"http://www.w3.org/2000/svg\" height=\"24px\"viewBox=\"0 0 24 24\"\n",
              "     width=\"24px\">\n",
              "    <g>\n",
              "        <path d=\"M19 3H5c-1.1 0-2 .9-2 2v14c0 1.1.9 2 2 2h14c1.1 0 2-.9 2-2V5c0-1.1-.9-2-2-2zM9 17H7v-7h2v7zm4 0h-2V7h2v10zm4 0h-2v-4h2v4z\"/>\n",
              "    </g>\n",
              "</svg>\n",
              "  </button>\n",
              "\n",
              "<style>\n",
              "  .colab-df-quickchart {\n",
              "      --bg-color: #E8F0FE;\n",
              "      --fill-color: #1967D2;\n",
              "      --hover-bg-color: #E2EBFA;\n",
              "      --hover-fill-color: #174EA6;\n",
              "      --disabled-fill-color: #AAA;\n",
              "      --disabled-bg-color: #DDD;\n",
              "  }\n",
              "\n",
              "  [theme=dark] .colab-df-quickchart {\n",
              "      --bg-color: #3B4455;\n",
              "      --fill-color: #D2E3FC;\n",
              "      --hover-bg-color: #434B5C;\n",
              "      --hover-fill-color: #FFFFFF;\n",
              "      --disabled-bg-color: #3B4455;\n",
              "      --disabled-fill-color: #666;\n",
              "  }\n",
              "\n",
              "  .colab-df-quickchart {\n",
              "    background-color: var(--bg-color);\n",
              "    border: none;\n",
              "    border-radius: 50%;\n",
              "    cursor: pointer;\n",
              "    display: none;\n",
              "    fill: var(--fill-color);\n",
              "    height: 32px;\n",
              "    padding: 0;\n",
              "    width: 32px;\n",
              "  }\n",
              "\n",
              "  .colab-df-quickchart:hover {\n",
              "    background-color: var(--hover-bg-color);\n",
              "    box-shadow: 0 1px 2px rgba(60, 64, 67, 0.3), 0 1px 3px 1px rgba(60, 64, 67, 0.15);\n",
              "    fill: var(--button-hover-fill-color);\n",
              "  }\n",
              "\n",
              "  .colab-df-quickchart-complete:disabled,\n",
              "  .colab-df-quickchart-complete:disabled:hover {\n",
              "    background-color: var(--disabled-bg-color);\n",
              "    fill: var(--disabled-fill-color);\n",
              "    box-shadow: none;\n",
              "  }\n",
              "\n",
              "  .colab-df-spinner {\n",
              "    border: 2px solid var(--fill-color);\n",
              "    border-color: transparent;\n",
              "    border-bottom-color: var(--fill-color);\n",
              "    animation:\n",
              "      spin 1s steps(1) infinite;\n",
              "  }\n",
              "\n",
              "  @keyframes spin {\n",
              "    0% {\n",
              "      border-color: transparent;\n",
              "      border-bottom-color: var(--fill-color);\n",
              "      border-left-color: var(--fill-color);\n",
              "    }\n",
              "    20% {\n",
              "      border-color: transparent;\n",
              "      border-left-color: var(--fill-color);\n",
              "      border-top-color: var(--fill-color);\n",
              "    }\n",
              "    30% {\n",
              "      border-color: transparent;\n",
              "      border-left-color: var(--fill-color);\n",
              "      border-top-color: var(--fill-color);\n",
              "      border-right-color: var(--fill-color);\n",
              "    }\n",
              "    40% {\n",
              "      border-color: transparent;\n",
              "      border-right-color: var(--fill-color);\n",
              "      border-top-color: var(--fill-color);\n",
              "    }\n",
              "    60% {\n",
              "      border-color: transparent;\n",
              "      border-right-color: var(--fill-color);\n",
              "    }\n",
              "    80% {\n",
              "      border-color: transparent;\n",
              "      border-right-color: var(--fill-color);\n",
              "      border-bottom-color: var(--fill-color);\n",
              "    }\n",
              "    90% {\n",
              "      border-color: transparent;\n",
              "      border-bottom-color: var(--fill-color);\n",
              "    }\n",
              "  }\n",
              "</style>\n",
              "\n",
              "  <script>\n",
              "    async function quickchart(key) {\n",
              "      const quickchartButtonEl =\n",
              "        document.querySelector('#' + key + ' button');\n",
              "      quickchartButtonEl.disabled = true;  // To prevent multiple clicks.\n",
              "      quickchartButtonEl.classList.add('colab-df-spinner');\n",
              "      try {\n",
              "        const charts = await google.colab.kernel.invokeFunction(\n",
              "            'suggestCharts', [key], {});\n",
              "      } catch (error) {\n",
              "        console.error('Error during call to suggestCharts:', error);\n",
              "      }\n",
              "      quickchartButtonEl.classList.remove('colab-df-spinner');\n",
              "      quickchartButtonEl.classList.add('colab-df-quickchart-complete');\n",
              "    }\n",
              "    (() => {\n",
              "      let quickchartButtonEl =\n",
              "        document.querySelector('#df-489d3447-eb56-432b-a582-dc4f0d881d9f button');\n",
              "      quickchartButtonEl.style.display =\n",
              "        google.colab.kernel.accessAllowed ? 'block' : 'none';\n",
              "    })();\n",
              "  </script>\n",
              "</div>\n",
              "\n",
              "    </div>\n",
              "  </div>\n"
            ]
          },
          "metadata": {},
          "execution_count": 4
        }
      ]
    },
    {
      "cell_type": "code",
      "source": [
        "#Checking Distribution\n",
        "df['sentiment'].value_counts().plot(kind='pie')"
      ],
      "metadata": {
        "colab": {
          "base_uri": "https://localhost:8080/",
          "height": 423
        },
        "id": "_kjVOppXr7Te",
        "outputId": "b33e3753-6c76-4a9a-f98a-3986f415f411"
      },
      "execution_count": null,
      "outputs": [
        {
          "output_type": "execute_result",
          "data": {
            "text/plain": [
              "<Axes: ylabel='sentiment'>"
            ]
          },
          "metadata": {},
          "execution_count": 5
        },
        {
          "output_type": "display_data",
          "data": {
            "text/plain": [
              "<Figure size 640x480 with 1 Axes>"
            ],
            "image/png": "[encoded data removed]"
          },
          "metadata": {}
        }
      ]
    },
    {
      "cell_type": "markdown",
      "source": [
        "Intial Observations:\n",
        "- Irregular Uppercasing and lowercasing.\n",
        "- Reviews may contain HTML tags."
      ],
      "metadata": {
        "id": "paXtEfa9pyom"
      }
    },
    {
      "cell_type": "code",
      "source": [
        "#Basic Data Cleaning\n",
        "\n",
        "#Lowercasing\n",
        "\n",
        "df['review'] = df['review'].str.lower()\n",
        "\n",
        "#Removing HTML tags, as data scrapped it may contain HTML tags\n",
        "\n",
        "def remove_html_tags(text):\n",
        "\tpattern = re.compile('<.*?>')  #This will remove anything that stats with a angular bracket.\n",
        "\treturn pattern.sub(r'', text)\n",
        "\n",
        "df['review'] = df['review'].apply(remove_html_tags)"
      ],
      "metadata": {
        "id": "hTqpyHbAqWdQ"
      },
      "execution_count": null,
      "outputs": []
    },
    {
      "cell_type": "markdown",
      "source": [
        "With this we conclude our basic cleaning."
      ],
      "metadata": {
        "id": "QKpQgvNkzZHc"
      }
    },
    {
      "cell_type": "markdown",
      "source": [
        "## Train Test Split\n",
        "\n",
        "That dataset is very large i.e containing 50,000 reviews, however Large Languge Models do not require this much data for fine tuning hence , I have reduced the data size significantly to 6000.\n",
        "\n",
        "While spliting I have used startify=y so that the splitting process will maintain the proportion of positive and negative reviews in the original dataset when creating the training and testing subsets."
      ],
      "metadata": {
        "id": "0In0PQXkkz1E"
      }
    },
    {
      "cell_type": "code",
      "source": [
        "#NOTE: I have specified 0 for a positive review, and 1 for negative.\n",
        "df['sentiment'].replace('positive', 0, inplace=True)\n",
        "df['sentiment'].replace('negative', 1, inplace=True)\n",
        "\n",
        "X = df['review'][0:6000]\n",
        "y = df['sentiment'][0:6000]\n",
        "\n",
        "X_train, X_test, y_train, y_test = train_test_split(X, y, test_size=0.1, random_state=42,stratify=y)"
      ],
      "metadata": {
        "id": "xS2DdH5Dk2iz"
      },
      "execution_count": null,
      "outputs": []
    },
    {
      "cell_type": "markdown",
      "source": [
        "## Tokenization and Model Selection\n",
        "\n",
        "We would be using BERT-base model. Hence we would use the model specific tokenizer.\n",
        "\n",
        "The labels (Train and Test i.e. postive or negative) can be easily converted into tensors.\n",
        "\n",
        "The reviews will require embedding, attention mask and input ids. This wil be taken care by the tokenizer itself."
      ],
      "metadata": {
        "id": "YWiv7tE72YAb"
      }
    },
    {
      "cell_type": "code",
      "source": [
        "model_name = \"bert-base-cased\"\n",
        "tokenizer = BertTokenizer.from_pretrained(model_name)"
      ],
      "metadata": {
        "id": "CVlj9MUk7XYB"
      },
      "execution_count": null,
      "outputs": []
    },
    {
      "cell_type": "code",
      "source": [
        "tokenized_inputs = tokenizer(X_train.tolist(), truncation=True, padding=True, return_tensors=\"tf\")\n",
        "labels = tf.convert_to_tensor(y_train.tolist())\n",
        "test_labels = tf.convert_to_tensor(y_test.tolist())"
      ],
      "metadata": {
        "id": "t5h5n20S06TT"
      },
      "execution_count": null,
      "outputs": []
    },
    {
      "cell_type": "code",
      "source": [
        "# Calling the model and specifing that output class has two values ie. 0 and 1.\n",
        "model = TFBertForSequenceClassification.from_pretrained(model_name, num_labels=2)"
      ],
      "metadata": {
        "colab": {
          "base_uri": "https://localhost:8080/"
        },
        "id": "gX6-7eYGR6T3",
        "outputId": "238b12e2-8efe-468e-b48f-763e0a459c42"
      },
      "execution_count": null,
      "outputs": [
        {
          "output_type": "stream",
          "name": "stderr",
          "text": [
            "All PyTorch model weights were used when initializing TFBertForSequenceClassification.\n",
            "\n",
            "Some weights or buffers of the TF 2.0 model TFBertForSequenceClassification were not initialized from the PyTorch model and are newly initialized: ['classifier.weight', 'classifier.bias']\n",
            "You should probably TRAIN this model on a down-stream task to be able to use it for predictions and inference.\n"
          ]
        }
      ]
    },
    {
      "cell_type": "markdown",
      "source": [
        "## Model Training"
      ],
      "metadata": {
        "id": "jRrHFIInDzpl"
      }
    },
    {
      "cell_type": "code",
      "source": [
        "%%time\n",
        "\n",
        "# Convert BatchEncoding to dictionaries\n",
        "tokenized_inputs_dict = {key: val.numpy() for key, val in tokenized_inputs.items()}\n",
        "\n",
        "# Create a TensorFlow dataset\n",
        "tf_dataset = tf.data.Dataset.from_tensor_slices((tokenized_inputs_dict, labels))\n",
        "\n",
        "# Adjust batch size and shuffling\n",
        "batch_size = 10\n",
        "shuffle_buffer_size = 100  # Set to the number of samples for a full shuffle\n",
        "tf_dataset = tf_dataset.shuffle(shuffle_buffer_size).batch(batch_size)\n",
        "\n",
        "# Prefetch for better performance\n",
        "tf_dataset = tf_dataset.prefetch(tf.data.experimental.AUTOTUNE)\n",
        "\n",
        "optimizer = tf.keras.optimizers.Adam(learning_rate=2e-5)\n",
        "loss = tf.keras.losses.SparseCategoricalCrossentropy(from_logits=True)\n",
        "metric = tf.keras.metrics.SparseCategoricalAccuracy('accuracy')\n",
        "\n",
        "# Compile the model\n",
        "model.compile(optimizer=optimizer, loss=loss, metrics=[metric])\n",
        "\n",
        "# Train the model\n",
        "epochs = 3\n",
        "model.fit(tf_dataset, epochs=epochs)"
      ],
      "metadata": {
        "colab": {
          "base_uri": "https://localhost:8080/"
        },
        "id": "TDGXWqH35BgE",
        "outputId": "8b1c7265-d282-4969-9c1d-9707a2bedb21"
      },
      "execution_count": null,
      "outputs": [
        {
          "output_type": "stream",
          "name": "stdout",
          "text": [
            "Epoch 1/3\n",
            "540/540 [==============================] - 671s 1s/step - loss: 0.3262 - accuracy: 0.8528\n",
            "Epoch 2/3\n",
            "540/540 [==============================] - 631s 1s/step - loss: 0.1480 - accuracy: 0.9465\n",
            "Epoch 3/3\n",
            "540/540 [==============================] - 631s 1s/step - loss: 0.0814 - accuracy: 0.9733\n",
            "CPU times: user 18min 5s, sys: 4min 16s, total: 22min 21s\n",
            "Wall time: 32min 50s\n"
          ]
        },
        {
          "output_type": "execute_result",
          "data": {
            "text/plain": [
              "<keras.src.callbacks.History at 0x7e9ceef347f0>"
            ]
          },
          "metadata": {},
          "execution_count": 26
        }
      ]
    },
    {
      "cell_type": "code",
      "source": [
        "tokenized_test_inputs = tokenizer(X_test.tolist(), truncation=True, padding=True, return_tensors=\"tf\")\n",
        "test_inputs_dict = {key: val.numpy() for key, val in tokenized_test_inputs.items()}\n",
        "\n",
        "predictions = model.predict(test_inputs_dict)\n",
        "print('Predictions made')\n",
        "\n",
        "class_labels = model.config.id2label\n",
        "print(class_labels)\n",
        "\n",
        "probabilities = tf.nn.softmax(predictions.logits, axis=-1) #Converting logits into probabilty\n",
        "predicted_classes = tf.argmax(probabilities, axis=-1) #Converting into Single Column"
      ],
      "metadata": {
        "colab": {
          "base_uri": "https://localhost:8080/"
        },
        "id": "RZF9SRHnXgGk",
        "outputId": "b28776f8-9212-42f3-eb54-58902c0df1c3"
      },
      "execution_count": null,
      "outputs": [
        {
          "output_type": "stream",
          "name": "stdout",
          "text": [
            "19/19 [==============================] - 29s 1s/step\n",
            "Predictions made\n",
            "{0: 'LABEL_0', 1: 'LABEL_1'}\n"
          ]
        }
      ]
    },
    {
      "cell_type": "markdown",
      "source": [
        "## Results"
      ],
      "metadata": {
        "id": "FrSRSHQIyI5-"
      }
    },
    {
      "cell_type": "code",
      "source": [
        "accuracy = accuracy_score(test_labels, predicted_classes)\n",
        "print(f\"Accuracy of the model is {accuracy}\")"
      ],
      "metadata": {
        "colab": {
          "base_uri": "https://localhost:8080/"
        },
        "id": "xkEvmYc_-yjE",
        "outputId": "1d1c3212-1b3c-4e5f-f84f-45a591a62c22"
      },
      "execution_count": null,
      "outputs": [
        {
          "output_type": "stream",
          "name": "stdout",
          "text": [
            "Accuracy of the model is 0.9083333333333333\n"
          ]
        }
      ]
    },
    {
      "cell_type": "code",
      "source": [
        "model.save_pretrained('fine_tuned_bert_model')\n",
        "tokenizer.save_pretrained('fine_tuned_bert_model')"
      ],
      "metadata": {
        "id": "2Pfxf1GdHItl",
        "colab": {
          "base_uri": "https://localhost:8080/"
        },
        "outputId": "aea96a90-3fcb-48a3-8301-801ee2ca4ebb"
      },
      "execution_count": null,
      "outputs": [
        {
          "output_type": "execute_result",
          "data": {
            "text/plain": [
              "('fine_tuned_bert_model/tokenizer_config.json',\n",
              " 'fine_tuned_bert_model/special_tokens_map.json',\n",
              " 'fine_tuned_bert_model/vocab.txt',\n",
              " 'fine_tuned_bert_model/added_tokens.json')"
            ]
          },
          "metadata": {},
          "execution_count": 29
        }
      ]
    },
    {
      "cell_type": "markdown",
      "source": [
        "## Conclusion:\n",
        "\n",
        "* The model scored an accuracy of 90%\n",
        "* The last epoch reported loss: 0.0814 & accuracy: 0.9733\n",
        "* Due to lack of computational power and large data set, I have to train model for less number of epochs.\n",
        "* Traing with some more data and more epochs can easily increase the accuracy.\n",
        "* The maximum batch size I could go for was 10 (for google collab free version)\n",
        "* With batch_size of 10 the GPU consumption was arouNd 14GB/15GB."
      ],
      "metadata": {
        "id": "LLSAWddb0kOw"
      }
    }
  ]
}